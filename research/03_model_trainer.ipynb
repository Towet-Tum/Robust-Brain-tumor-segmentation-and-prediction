{
 "cells": [
  {
   "cell_type": "code",
   "execution_count": 1,
   "metadata": {},
   "outputs": [
    {
     "data": {
      "text/plain": [
       "'/home/towet/Desktop/OpenProjects/Robust-Brain-tumor-segmentation-and-prediction/research'"
      ]
     },
     "execution_count": 1,
     "metadata": {},
     "output_type": "execute_result"
    }
   ],
   "source": [
    "import os \n",
    "%pwd"
   ]
  },
  {
   "cell_type": "code",
   "execution_count": 2,
   "metadata": {},
   "outputs": [],
   "source": [
    "os.chdir('../')"
   ]
  },
  {
   "cell_type": "code",
   "execution_count": 3,
   "metadata": {},
   "outputs": [
    {
     "data": {
      "text/plain": [
       "'/home/towet/Desktop/OpenProjects/Robust-Brain-tumor-segmentation-and-prediction'"
      ]
     },
     "execution_count": 3,
     "metadata": {},
     "output_type": "execute_result"
    }
   ],
   "source": [
    "%pwd"
   ]
  },
  {
   "cell_type": "code",
   "execution_count": 4,
   "metadata": {},
   "outputs": [],
   "source": [
    "from dataclasses import dataclass\n",
    "from pathlib import Path \n",
    "\n",
    "@dataclass(frozen=True)\n",
    "class TrainingConfig:\n",
    "    root_dir: Path \n",
    "    model_path: Path \n",
    "    train_img_dir: str \n",
    "    train_mask_dir: str\n",
    "    val_img_dir: str\n",
    "    val_mask_dir: str \n",
    "    epochs: int \n",
    "    batch_size: int \n",
    "    img_size: int \n",
    "    lr: float\n",
    "    num_classes: int \n",
    "    channels: int\n",
    "    "
   ]
  },
  {
   "cell_type": "code",
   "execution_count": 5,
   "metadata": {},
   "outputs": [],
   "source": [
    "from BrainTumorSegmentation.constants import *\n",
    "from BrainTumorSegmentation.utils.common import read_yaml, create_directories"
   ]
  },
  {
   "cell_type": "code",
   "execution_count": 6,
   "metadata": {},
   "outputs": [],
   "source": [
    "class ConfigurationManager:\n",
    "    def __init__(self, \n",
    "                 config_file_path = CONFIG_FILE_PATH,\n",
    "                 param_file_path = PARAM_FILE_PATH):\n",
    "        self.config = read_yaml(config_file_path)\n",
    "        self.params = read_yaml(param_file_path)\n",
    "        \n",
    "        create_directories([self.config.artifacts_root])\n",
    "    def get_training_config(self) -> TrainingConfig:\n",
    "        config = self.config.training\n",
    "        params = self.params \n",
    "        create_directories([config.root_dir])\n",
    "        training_config = TrainingConfig(\n",
    "            root_dir=config.root_dir,\n",
    "            model_path=config.model_path,\n",
    "            train_img_dir=\"artifacts/data_preprocess/processed_dataset/train/images/\",\n",
    "            train_mask_dir=\"artifacts/data_preprocess/processed_dataset/train/masks/\",\n",
    "            val_img_dir=\"artifacts/data_preprocess/processed_dataset/val/images/\",\n",
    "            val_mask_dir=\"artifacts/data_preprocess/processed_dataset/val/masks/\",\n",
    "            epochs=params.EPOCHS,\n",
    "            batch_size=params.BATCH_SIZE,\n",
    "            img_size=params.IMG_SIZE,\n",
    "            num_classes=params.NUM_CLASSES,\n",
    "            channels=params.CHANNELS,\n",
    "            lr=params.LEARNING_RATE,\n",
    "        )\n",
    "        return training_config"
   ]
  },
  {
   "cell_type": "code",
   "execution_count": 11,
   "metadata": {},
   "outputs": [],
   "source": [
    "import os\n",
    "import numpy as np\n",
    "import tensorflow as tf\n",
    "import segmentation_models_3D as sm\n",
    "from BrainTumorSegmentation.utils.common import load_img, imageLoader\n",
    "from BrainTumorSegmentation.models.unet_3D_model import unet_model\n"
   ]
  },
  {
   "cell_type": "code",
   "execution_count": null,
   "metadata": {},
   "outputs": [],
   "source": [
    "class Training:\n",
    "    def __init__(self, config: TrainingConfig):\n",
    "        self.config = config\n",
    "    \n",
    "    def train(self):\n",
    "        train_img_list = os.listdir(self.config.train_img_dir)\n",
    "        train_mask_list = os.listdir(self.config.train_mask_dir)\n",
    "        val_img_list = os.listdir(self.config.val_img_dir)\n",
    "        val_mask_list = os.listdir(self.config.val_mask_dir)\n",
    "       \n",
    "        \n",
    "        train_gen = imageLoader(self.config.train_img_dir, train_img_list, self.config.train_mask_dir, train_mask_list, self.config.batch_size)\n",
    "        val_gen = imageLoader(self.config.val_img_dir, val_img_list, self.config.val_mask_dir, val_mask_list, self.config.batch_size)\n",
    "        \n",
    "        wt0, wt1, wt2, wt3 = 0.25,0.25,0.25,0.25\n",
    "\n",
    "        dice_loss = sm.losses.DiceLoss(class_weights=np.array([wt0, wt1, wt2, wt3]))\n",
    "        focal_loss = sm.losses.CategoricalFocalLoss()\n",
    "        total_loss = dice_loss + (1 * focal_loss)\n",
    "\n",
    "        metrics = ['accuracy', sm.metrics.IOUScore(threshold=0.5)]\n",
    "\n",
    "        LR = self.config.lr\n",
    "        optim = tf.keras.optimizers.Adam(LR)\n",
    "        #######################################################################\n",
    "        #Fit the model\n",
    "\n",
    "        steps_per_epoch = len(train_img_list)//self.config.batch_size\n",
    "        val_steps_per_epoch = len(val_img_list)//self.config.batch_size\n",
    "        \n",
    "        model = unet_model(IMG_HEIGHT=self.config.img_size,\n",
    "                          IMG_WIDTH=self.config.img_size,\n",
    "                          IMG_DEPTH=self.config.img_size,\n",
    "                          IMG_CHANNELS=self.config.channels,\n",
    "                          num_classes=self.config.num_classes)\n",
    "        \n",
    "        model.compile(optimizer = optim, loss=total_loss, metrics=metrics)\n",
    "        history=model.fit(train_gen,\n",
    "          steps_per_epoch=steps_per_epoch,\n",
    "          epochs=self.config.epochs,\n",
    "          verbose=1,\n",
    "          validation_data=val_gen,\n",
    "          validation_steps=val_steps_per_epoch,\n",
    "          )\n",
    "        \n",
    "        model.save(self.config.model_path)\n",
    "    "
   ]
  }
 ],
 "metadata": {
  "kernelspec": {
   "display_name": "tumor",
   "language": "python",
   "name": "python3"
  },
  "language_info": {
   "codemirror_mode": {
    "name": "ipython",
    "version": 3
   },
   "file_extension": ".py",
   "mimetype": "text/x-python",
   "name": "python",
   "nbconvert_exporter": "python",
   "pygments_lexer": "ipython3",
   "version": "3.10.12"
  }
 },
 "nbformat": 4,
 "nbformat_minor": 2
}
